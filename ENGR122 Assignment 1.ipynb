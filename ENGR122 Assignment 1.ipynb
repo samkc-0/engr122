{
 "cells": [
  {
   "cell_type": "markdown",
   "id": "c910a60c",
   "metadata": {},
   "source": [
    "# ENGR122 Assignment 1"
   ]
  },
  {
   "cell_type": "code",
   "execution_count": 57,
   "id": "71627971",
   "metadata": {},
   "outputs": [],
   "source": [
    "import math\n",
    "import numpy as np\n",
    "import sympy as sp\n",
    "import matplotlib.pyplot as plt\n",
    "%matplotlib inline"
   ]
  },
  {
   "cell_type": "markdown",
   "id": "468e2538",
   "metadata": {},
   "source": [
    "**1** Solve and factorize the following quadratic equations:"
   ]
  },
  {
   "cell_type": "markdown",
   "id": "a43e5f90",
   "metadata": {},
   "source": [
    "$\\mathrm{(a)} \\ \\ x^2 + 3x - 28 = 0$"
   ]
  },
  {
   "cell_type": "code",
   "execution_count": null,
   "id": "a7ed2816",
   "metadata": {},
   "outputs": [],
   "source": []
  },
  {
   "cell_type": "markdown",
   "id": "9a2e5568",
   "metadata": {},
   "source": [
    "$\\mathrm{(b)} \\ \\ x^2 = 4$"
   ]
  },
  {
   "cell_type": "code",
   "execution_count": null,
   "id": "80d56bef",
   "metadata": {},
   "outputs": [],
   "source": []
  },
  {
   "cell_type": "markdown",
   "id": "7d4a2435",
   "metadata": {},
   "source": [
    "$\\mathrm{(c)} \\ \\ 2z^2 + z - 1 = 0$"
   ]
  },
  {
   "cell_type": "code",
   "execution_count": null,
   "id": "77831be1",
   "metadata": {},
   "outputs": [],
   "source": []
  },
  {
   "cell_type": "markdown",
   "id": "3a483519",
   "metadata": {},
   "source": [
    "$\\mathrm{(d)} \\ \\ 4s^2 - 2 = s $"
   ]
  },
  {
   "cell_type": "code",
   "execution_count": null,
   "id": "48dad084",
   "metadata": {},
   "outputs": [],
   "source": []
  },
  {
   "cell_type": "markdown",
   "id": "da960c49",
   "metadata": {},
   "source": [
    "$\\mathrm{(e)} \\ \\ x^2 + 4 = 0$"
   ]
  },
  {
   "cell_type": "code",
   "execution_count": null,
   "id": "88dc8575",
   "metadata": {},
   "outputs": [],
   "source": []
  },
  {
   "cell_type": "markdown",
   "id": "e720b185",
   "metadata": {},
   "source": [
    "$\\mathrm{(f)} \\ \\ -x^2 + 3x - 4 = 0$"
   ]
  },
  {
   "cell_type": "code",
   "execution_count": null,
   "id": "5a025343",
   "metadata": {},
   "outputs": [],
   "source": []
  },
  {
   "cell_type": "markdown",
   "id": "1d2587a2",
   "metadata": {},
   "source": [
    "<hr>"
   ]
  },
  {
   "cell_type": "markdown",
   "id": "e8cb1c6a",
   "metadata": {},
   "source": [
    "**2** Calculate the roots of the equation\n",
    "\n",
    "$$ 3x^3 - 11x^2 + 16x - 12 = 0 $$\n",
    "\n",
    "given $ x = 2 $ is a root."
   ]
  },
  {
   "cell_type": "code",
   "execution_count": null,
   "id": "964c45a6",
   "metadata": {},
   "outputs": [],
   "source": []
  },
  {
   "cell_type": "markdown",
   "id": "95525c98",
   "metadata": {},
   "source": [
    "<hr>"
   ]
  },
  {
   "cell_type": "markdown",
   "id": "88cd6b99",
   "metadata": {},
   "source": [
    "**3** Solve the quadratic inequality\n",
    "\n",
    "$$ -x^2 -2x + 8 \\leq 0 $$"
   ]
  },
  {
   "cell_type": "code",
   "execution_count": null,
   "id": "fbaf1856",
   "metadata": {},
   "outputs": [],
   "source": []
  },
  {
   "cell_type": "markdown",
   "id": "b9790e2f",
   "metadata": {},
   "source": [
    "<hr>"
   ]
  },
  {
   "cell_type": "markdown",
   "id": "954b488b",
   "metadata": {},
   "source": [
    "**4** Write down the complex conjugates of the following complex numbers:"
   ]
  },
  {
   "cell_type": "markdown",
   "id": "bfa9e231",
   "metadata": {},
   "source": [
    "$\\mathrm{(a)} \\ \\ -11 - 8i $"
   ]
  },
  {
   "cell_type": "code",
   "execution_count": null,
   "id": "d8e07ee9",
   "metadata": {},
   "outputs": [],
   "source": []
  },
  {
   "cell_type": "markdown",
   "id": "0e9e9988",
   "metadata": {},
   "source": [
    "$\\mathrm{(b)} \\ \\ 5 + 3i$"
   ]
  },
  {
   "cell_type": "code",
   "execution_count": null,
   "id": "8c50b7fc",
   "metadata": {},
   "outputs": [],
   "source": []
  },
  {
   "cell_type": "markdown",
   "id": "028e8dc6",
   "metadata": {},
   "source": [
    "$\\mathrm{(c)} \\ \\ 2i $"
   ]
  },
  {
   "cell_type": "code",
   "execution_count": null,
   "id": "ad8d8be2",
   "metadata": {},
   "outputs": [],
   "source": []
  },
  {
   "cell_type": "markdown",
   "id": "41330199",
   "metadata": {},
   "source": [
    "<hr>"
   ]
  },
  {
   "cell_type": "markdown",
   "id": "2c13b288",
   "metadata": {},
   "source": [
    "**5** If $ z_1 = 2 + 3i $ and $ z_2 = 4 - 8i $ find"
   ]
  },
  {
   "cell_type": "markdown",
   "id": "bb71d83f",
   "metadata": {},
   "source": [
    "$\\mathrm{(a)} \\ \\ z_1 + z_2 $ "
   ]
  },
  {
   "cell_type": "code",
   "execution_count": null,
   "id": "a8829761",
   "metadata": {},
   "outputs": [],
   "source": []
  },
  {
   "cell_type": "markdown",
   "id": "b2ea119e",
   "metadata": {},
   "source": [
    "$ (b) \\ \\ z_1 - z_2 $"
   ]
  },
  {
   "cell_type": "code",
   "execution_count": null,
   "id": "7151d306",
   "metadata": {},
   "outputs": [],
   "source": []
  },
  {
   "cell_type": "markdown",
   "id": "20cd2399",
   "metadata": {},
   "source": [
    "$\\mathrm{(c)} \\ \\ z_2 - z_1 $"
   ]
  },
  {
   "cell_type": "code",
   "execution_count": null,
   "id": "f8d80d4a",
   "metadata": {},
   "outputs": [],
   "source": []
  },
  {
   "cell_type": "markdown",
   "id": "99756560",
   "metadata": {},
   "source": [
    "$\\mathrm{(d)} \\ \\ z_1 z_2 $"
   ]
  },
  {
   "cell_type": "code",
   "execution_count": null,
   "id": "9eb0f9cc",
   "metadata": {},
   "outputs": [],
   "source": []
  },
  {
   "cell_type": "markdown",
   "id": "145f830f",
   "metadata": {},
   "source": [
    "$\\mathrm{(e)} \\ \\ z_1 / z_2 $"
   ]
  },
  {
   "cell_type": "markdown",
   "id": "ee79a5a4",
   "metadata": {},
   "source": [
    "<hr>"
   ]
  },
  {
   "cell_type": "markdown",
   "id": "1ef68f6d",
   "metadata": {},
   "source": [
    "**6** Express the following in the form $ a + bi $"
   ]
  },
  {
   "cell_type": "markdown",
   "id": "66285a17",
   "metadata": {},
   "source": [
    "$\\mathrm{(a)} \\ \\ \\frac{ 4 + 5i }{ 2 + 2i } $"
   ]
  },
  {
   "cell_type": "code",
   "execution_count": null,
   "id": "3f62196c",
   "metadata": {},
   "outputs": [],
   "source": []
  },
  {
   "cell_type": "markdown",
   "id": "079e8457",
   "metadata": {},
   "source": [
    "$\\mathrm{(b)} \\ \\ \\frac{ 2 - 3i }{i} $"
   ]
  },
  {
   "cell_type": "code",
   "execution_count": null,
   "id": "295e9dd7",
   "metadata": {},
   "outputs": [],
   "source": []
  },
  {
   "cell_type": "markdown",
   "id": "259db0ca",
   "metadata": {},
   "source": [
    "$\\mathrm{(c)} \\ \\ (5 + 3i)(2 - i) - (3 + i) $"
   ]
  },
  {
   "cell_type": "code",
   "execution_count": null,
   "id": "61ec4bfe",
   "metadata": {},
   "outputs": [],
   "source": []
  },
  {
   "cell_type": "markdown",
   "id": "d473fcbb",
   "metadata": {},
   "source": [
    "$\\mathrm{(d)} \\ \\ (1 - 2i)^2 $"
   ]
  },
  {
   "cell_type": "code",
   "execution_count": null,
   "id": "6e97d3c2",
   "metadata": {},
   "outputs": [],
   "source": []
  },
  {
   "cell_type": "markdown",
   "id": "91119447",
   "metadata": {},
   "source": [
    "$\\mathrm{(e)} \\ \\ \\frac{ 5 - 8i }{ 3 + 4 i } $"
   ]
  },
  {
   "cell_type": "code",
   "execution_count": null,
   "id": "3d9851e1",
   "metadata": {},
   "outputs": [],
   "source": []
  },
  {
   "cell_type": "markdown",
   "id": "496a1f84",
   "metadata": {},
   "source": [
    "$\\mathrm{(f)} \\ \\ \\frac{3}{ 3 + 2i} + \\frac{1}{ 5 - i } $"
   ]
  },
  {
   "cell_type": "code",
   "execution_count": null,
   "id": "1591cff0",
   "metadata": {},
   "outputs": [],
   "source": []
  },
  {
   "cell_type": "markdown",
   "id": "b57182d3",
   "metadata": {},
   "source": [
    "<hr>"
   ]
  },
  {
   "cell_type": "markdown",
   "id": "b50cbb24",
   "metadata": {},
   "source": [
    "**7** Plot the following complex numbers on an Argand diagram:"
   ]
  },
  {
   "cell_type": "code",
   "execution_count": 97,
   "id": "2f6af7f5",
   "metadata": {},
   "outputs": [],
   "source": [
    "def get_sign(x):\n",
    "    if math.copysign(1, x) >= 0:\n",
    "        return \"+\"\n",
    "    else:\n",
    "        return \"-\"\n",
    "    \n",
    "def tidy_coeff(a):\n",
    "    if a - abs(a) == 0:\n",
    "        return int(a)\n",
    "    else:\n",
    "        return a\n",
    "\n",
    "def plot_complex_number(z, name=\"z\", xlim=[-7, 7], ylim=[-7, 7]):\n",
    "    ax = plt.subplot()\n",
    "    ax.set_aspect(1)\n",
    "    plt.xlabel(\"$\\mathbf{Re}(\" + name + \")$\"), plt.ylabel(\"$\\mathbf{Im}(\" + name + \")$\")\n",
    "    plt.xlim(*xlim), plt.ylim(*ylim)\n",
    "    plt.axhline(0, color='black')\n",
    "    plt.axvline(0, color='black')\n",
    "    plt.grid(True)\n",
    "    label = f\"${name} = {tidy_coeff(z.real)} {get_sign(z.imag)} {tidy_coeff(abs(z.imag))}i$\"\n",
    "    plt.scatter([z.real], [z.imag])\n",
    "    plt.annotate(label, xy=(z.real + 0.5, z.imag))"
   ]
  },
  {
   "cell_type": "markdown",
   "id": "d63b2ccf",
   "metadata": {},
   "source": [
    "$\\mathrm{(a)} \\ \\ z_1 = -3 - 3i $"
   ]
  },
  {
   "cell_type": "code",
   "execution_count": 99,
   "id": "497f3873",
   "metadata": {},
   "outputs": [
    {
     "data": {
      "image/png": "[encoded data removed]",
      "text/plain": [
       "<Figure size 432x288 with 1 Axes>"
      ]
     },
     "metadata": {
      "needs_background": "light"
     },
     "output_type": "display_data"
    }
   ],
   "source": [
    "plot_complex_number(-3 - 3j, \"z_1\")"
   ]
  },
  {
   "cell_type": "markdown",
   "id": "ef08fb9e",
   "metadata": {},
   "source": [
    "$\\mathrm{(b)} \\ \\ z_2 = 7 + 2i $"
   ]
  },
  {
   "cell_type": "code",
   "execution_count": 105,
   "id": "2bca6f0b",
   "metadata": {},
   "outputs": [
    {
     "data": {
      "image/png": "[encoded data removed]",
      "text/plain": [
       "<Figure size 432x288 with 1 Axes>"
      ]
     },
     "metadata": {
      "needs_background": "light"
     },
     "output_type": "display_data"
    }
   ],
   "source": [
    "plot_complex_number(7 + 2j, \"z_2\")"
   ]
  },
  {
   "cell_type": "markdown",
   "id": "7bf4d848",
   "metadata": {},
   "source": [
    "$\\mathrm{(c)} \\ \\ z_3 = 3 $"
   ]
  },
  {
   "cell_type": "code",
   "execution_count": 102,
   "id": "c5527a2d",
   "metadata": {},
   "outputs": [
    {
     "data": {
      "image/png": "[encoded data removed]",
      "text/plain": [
       "<Figure size 432x288 with 1 Axes>"
      ]
     },
     "metadata": {
      "needs_background": "light"
     },
     "output_type": "display_data"
    }
   ],
   "source": [
    "plot_complex_number(3 + 0j, \"z_3\")"
   ]
  },
  {
   "cell_type": "markdown",
   "id": "8bfac97a",
   "metadata": {},
   "source": [
    "$\\mathrm{(d)} \\ \\ z_4 = 3i $"
   ]
  },
  {
   "cell_type": "code",
   "execution_count": 100,
   "id": "bf87d0be",
   "metadata": {},
   "outputs": [
    {
     "data": {
      "image/png": "[encoded data removed]",
      "text/plain": [
       "<Figure size 432x288 with 1 Axes>"
      ]
     },
     "metadata": {
      "needs_background": "light"
     },
     "output_type": "display_data"
    }
   ],
   "source": [
    "plot_complex_number(0 + 3j, \"z_2\")"
   ]
  },
  {
   "cell_type": "markdown",
   "id": "0d28b8cf",
   "metadata": {},
   "source": [
    "<hr>"
   ]
  },
  {
   "cell_type": "markdown",
   "id": "f9690bd1",
   "metadata": {},
   "source": [
    "**8** Find the values of the real numbers $ x $ and $ y $ which satisfy the equation:\n",
    "\n",
    "$$ \\frac{2 + x - yi}{2x + 3yi} = 2 + i $$"
   ]
  },
  {
   "cell_type": "markdown",
   "id": "f1cfc297",
   "metadata": {},
   "source": [
    "<hr>"
   ]
  },
  {
   "cell_type": "markdown",
   "id": "492073d2",
   "metadata": {},
   "source": [
    "**9** Find $ z = z_1 + z_2 z_3 / (z_2 + z_3) $ when $ z_1 = 2 + 3i $, $ z_2 = 3 + 4i $ and $ z_3 = -5 + 12i $."
   ]
  },
  {
   "cell_type": "code",
   "execution_count": null,
   "id": "95b94c75",
   "metadata": {},
   "outputs": [],
   "source": []
  },
  {
   "cell_type": "markdown",
   "id": "44e01860",
   "metadata": {},
   "source": [
    "<hr>"
   ]
  },
  {
   "cell_type": "markdown",
   "id": "6628f92f",
   "metadata": {},
   "source": [
    "**10** Show, using algebra and the fact that $ z \\overline{z} = |z|^2 $, that\n",
    "\n",
    "$$ \\frac{1}{z_1} + \\frac{1}{z_2} = \\frac{ |z_2|^2 \\overline{z_1} + |z_1|^2 \\overline{z_2} }{ |z_1|^2 |z_2|^2 } $$"
   ]
  },
  {
   "cell_type": "code",
   "execution_count": null,
   "id": "95659de5",
   "metadata": {},
   "outputs": [],
   "source": []
  },
  {
   "cell_type": "markdown",
   "id": "d4b25cdb",
   "metadata": {},
   "source": [
    "<hr>"
   ]
  }
 ],
 "metadata": {
  "kernelspec": {
   "display_name": "Python 3",
   "language": "python",
   "name": "python3"
  },
  "language_info": {
   "codemirror_mode": {
    "name": "ipython",
    "version": 3
   },
   "file_extension": ".py",
   "mimetype": "text/x-python",
   "name": "python",
   "nbconvert_exporter": "python",
   "pygments_lexer": "ipython3",
   "version": "3.7.11"
  }
 },
 "nbformat": 4,
 "nbformat_minor": 5
}
